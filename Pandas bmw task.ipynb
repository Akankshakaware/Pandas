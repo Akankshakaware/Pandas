{
 "cells": [
  {
   "cell_type": "markdown",
   "id": "aa6c51be-37bc-47f6-9923-e6e009f3edc7",
   "metadata": {},
   "source": [
    "# Pandas Complete Task for BMW CAR"
   ]
  },
  {
   "cell_type": "markdown",
   "id": "e3beb31f-a663-4daf-a913-01aecae33934",
   "metadata": {},
   "source": [
    "## 1.Setup"
   ]
  },
  {
   "cell_type": "code",
   "execution_count": null,
   "id": "622c857a-1f33-4272-a539-4767fe15d324",
   "metadata": {},
   "outputs": [],
   "source": [
    "# importing Libraries\n",
    "import numpy as np\n",
    "import pandas as pd"
   ]
  },
  {
   "cell_type": "markdown",
   "id": "e0457765-c8dc-4aca-beda-2e8fe3b6d4a5",
   "metadata": {},
   "source": [
    "## Q.1 Load the dataset and print first 10 rows."
   ]
  },
  {
   "cell_type": "code",
   "execution_count": null,
   "id": "5c27940e-5857-462d-81a3-d29bbdd3b132",
   "metadata": {},
   "outputs": [],
   "source": [
    "# Loading csv file with skip first 10 rows without header\n",
    "df=pd .read_csv('C:\\\\Users\\\\admin\\\\Downloads\\\\BMW\\\\BMW\\\\bmw.csv')"
   ]
  },
  {
   "cell_type": "code",
   "execution_count": null,
   "id": "73cb8a55-1ceb-44cb-a709-cd6d62c13e4b",
   "metadata": {},
   "outputs": [],
   "source": [
    "# Retriving rows from data frame "
   ]
  },
  {
   "cell_type": "code",
   "execution_count": null,
   "id": "2ebbb8cc-85d1-4931-a397-f1cc2606cfed",
   "metadata": {},
   "outputs": [],
   "source": [
    "# display first 10 rows \n",
    "df.head(10)"
   ]
  },
  {
   "cell_type": "markdown",
   "id": "69f6e286-c3fb-483c-98a1-6e10396a0e10",
   "metadata": {},
   "source": [
    "## Q.2 Display shape, column names, and data types.\n"
   ]
  },
  {
   "cell_type": "code",
   "execution_count": null,
   "id": "020b8df2-dc26-4af2-ac36-e0dd64c886b3",
   "metadata": {},
   "outputs": [],
   "source": [
    "df.shape"
   ]
  },
  {
   "cell_type": "code",
   "execution_count": null,
   "id": "932ddb34-f53b-42b2-99e6-c44c5b03d81b",
   "metadata": {},
   "outputs": [],
   "source": [
    "df.columns"
   ]
  },
  {
   "cell_type": "code",
   "execution_count": null,
   "id": "3633485b-e639-4322-8d9e-d7d8ab26fb58",
   "metadata": {},
   "outputs": [],
   "source": [
    "# display datatypes \n",
    "df.dtypes"
   ]
  },
  {
   "cell_type": "markdown",
   "id": "19b0ff32-46b8-4aed-bd79-be51eeec8206",
   "metadata": {},
   "source": [
    "## Q.3 Check for missing values and count per column.\n"
   ]
  },
  {
   "cell_type": "code",
   "execution_count": null,
   "id": "4d65c2c2-7c04-46ea-a1dc-052d718314a1",
   "metadata": {},
   "outputs": [],
   "source": [
    "import pandas as pd\n",
    "import numpy as np"
   ]
  },
  {
   "cell_type": "code",
   "execution_count": null,
   "id": "a43e0868-40a4-4f85-9164-975afdfe4445",
   "metadata": {},
   "outputs": [],
   "source": [
    "df = pd.read_csv('C:\\\\Users\\\\admin\\\\Downloads\\\\BMW\\\\BMW\\\\bmw.csv')\n",
    "df.head(10)"
   ]
  },
  {
   "cell_type": "code",
   "execution_count": null,
   "id": "df865e9b-c812-4030-aa86-675d05617629",
   "metadata": {},
   "outputs": [],
   "source": [
    "df.isna().sum().sort_values(ascending=False)"
   ]
  },
  {
   "cell_type": "markdown",
   "id": "46c02f7b-ffea-4ea1-a89e-713fb6e4628e",
   "metadata": {},
   "source": [
    "## Q.4 Filter cars manufactured after 2020.\n"
   ]
  },
  {
   "cell_type": "code",
   "execution_count": null,
   "id": "53d0b30e-e556-419f-a019-f0bd0a01e783",
   "metadata": {},
   "outputs": [],
   "source": [
    "# Filter cars manufactured after 2020\n",
    "df = df [df['Year']>2020]\n",
    "df"
   ]
  },
  {
   "cell_type": "markdown",
   "id": "db945754-41bf-4aed-be2c-fd4408e40aeb",
   "metadata": {},
   "source": [
    "## Q.5 List unique car models and fuel types.\n"
   ]
  },
  {
   "cell_type": "code",
   "execution_count": null,
   "id": "32d3494b-875e-4c45-afbb-9d51f7b7e03f",
   "metadata": {},
   "outputs": [],
   "source": [
    "df.nunique()"
   ]
  },
  {
   "cell_type": "code",
   "execution_count": null,
   "id": "b6d85208-b435-4736-a29f-87014c1a4936",
   "metadata": {},
   "outputs": [],
   "source": [
    "df['Model_Name'].unique()"
   ]
  },
  {
   "cell_type": "code",
   "execution_count": null,
   "id": "8dd0b04b-9a0f-4ce8-aba7-6d7f1951041d",
   "metadata": {},
   "outputs": [],
   "source": [
    "df['Fuel_Type'].unique()"
   ]
  },
  {
   "cell_type": "markdown",
   "id": "221fb88f-29ac-487d-b4d6-877cee8f03ee",
   "metadata": {},
   "source": [
    "## Q.6 Count how many cars per fuel type.\n"
   ]
  },
  {
   "cell_type": "code",
   "execution_count": null,
   "id": "9f44c50e-433f-4aa3-94e3-9d1dfdc2ad71",
   "metadata": {},
   "outputs": [],
   "source": [
    "df['Fuel_Type'].value_counts().T"
   ]
  },
  {
   "cell_type": "markdown",
   "id": "fbcb79c1-e592-498b-b78c-1ba6a577d938",
   "metadata": {},
   "source": [
    "## Q.7 Sort dataset by price_Ex_Showroom descending."
   ]
  },
  {
   "cell_type": "code",
   "execution_count": null,
   "id": "7f994af9-4f0d-424a-ac83-e95f6088e50f",
   "metadata": {},
   "outputs": [],
   "source": [
    "# Sort dataset by price_Ex_Showroom descending\n",
    "df.sort_values(by=['Price_Ex_Showroom'], ascending = False).head(3)"
   ]
  },
  {
   "cell_type": "markdown",
   "id": "5c12a5a1-b500-4a55-b2f7-9c947f2d4c29",
   "metadata": {},
   "source": [
    "## Q.8 Filter only Automatic transmission BMWs.\n"
   ]
  },
  {
   "cell_type": "code",
   "execution_count": null,
   "id": "ad5c9070-64a6-41a8-8a94-2d64701ab95e",
   "metadata": {},
   "outputs": [],
   "source": [
    "condition=df['Price_Ex_Showroom']>60\n",
    "df[condition].head()"
   ]
  },
  {
   "cell_type": "markdown",
   "id": "0b5e71a5-e9e0-464e-8002-cdbdf730a738",
   "metadata": {},
   "source": [
    "## Q.9 Replace missing mileage values with mean.\n"
   ]
  },
  {
   "cell_type": "markdown",
   "id": "aa1b497b-0762-42f9-8a12-0dfaad403548",
   "metadata": {},
   "source": [
    "no any null values"
   ]
  },
  {
   "cell_type": "markdown",
   "id": "53f858e3-c463-43f8-b2c5-cf0574f6dc89",
   "metadata": {},
   "source": [
    "## Q.10."
   ]
  },
  {
   "cell_type": "markdown",
   "id": "d977de1f-952c-4546-acd7-0723123f1522",
   "metadata": {},
   "source": [
    "## Q.11 Group cars by Model_Name and calculate average price.\n"
   ]
  },
  {
   "cell_type": "code",
   "execution_count": null,
   "id": "64a40453-6408-4c13-a411-bf53518a969c",
   "metadata": {},
   "outputs": [],
   "source": [
    "df['Model_Name'].groupby(df['Price_Ex_Showroom']).min() "
   ]
  },
  {
   "cell_type": "markdown",
   "id": "d6bd8e12-b8a3-44bd-8545-e2073a68f6c7",
   "metadata": {},
   "source": [
    "## Q.12 Create a new column Car_Age = 2025 - Year.\n"
   ]
  },
  {
   "cell_type": "code",
   "execution_count": null,
   "id": "d7d8ed70-408f-4109-bb34-a0e4598ba48d",
   "metadata": {},
   "outputs": [],
   "source": [
    "# Loading csv file with skip first 10 rows without header\n",
    "df=pd .read_csv('C:\\\\Users\\\\admin\\\\Downloads\\\\BMW\\\\BMW\\\\bmw.csv')"
   ]
  },
  {
   "cell_type": "code",
   "execution_count": null,
   "id": "224fc474-946f-4971-bb83-53f02768ab31",
   "metadata": {
    "scrolled": true
   },
   "outputs": [],
   "source": [
    "# Add a new ajusted column which value will be Car_Age= 2025 - Year\n",
    "df['Car_Age'] = df['Year'] = 2025 - df['Year'] "
   ]
  },
  {
   "cell_type": "code",
   "execution_count": null,
   "id": "cbffab29-1f1f-4858-90bf-a921fc048a41",
   "metadata": {},
   "outputs": [],
   "source": [
    "df"
   ]
  },
  {
   "attachments": {},
   "cell_type": "markdown",
   "id": "a508339b-6c53-44bc-a322-a4f2db4b2536",
   "metadata": {},
   "source": [
    "## Q.14 Filter cars priced above ₹60 lakh."
   ]
  },
  {
   "cell_type": "code",
   "execution_count": 33,
   "id": "aa72fcf8-8f0d-47cd-a820-69f7f500d81d",
   "metadata": {},
   "outputs": [
    {
     "data": {
      "text/html": [
       "<div>\n",
       "<style scoped>\n",
       "    .dataframe tbody tr th:only-of-type {\n",
       "        vertical-align: middle;\n",
       "    }\n",
       "\n",
       "    .dataframe tbody tr th {\n",
       "        vertical-align: top;\n",
       "    }\n",
       "\n",
       "    .dataframe thead th {\n",
       "        text-align: right;\n",
       "    }\n",
       "</style>\n",
       "<table border=\"1\" class=\"dataframe\">\n",
       "  <thead>\n",
       "    <tr style=\"text-align: right;\">\n",
       "      <th></th>\n",
       "      <th>ID</th>\n",
       "      <th>Model_Name</th>\n",
       "      <th>Variant</th>\n",
       "      <th>Year</th>\n",
       "      <th>Fuel_Type</th>\n",
       "      <th>Transmission</th>\n",
       "      <th>Engine_CC</th>\n",
       "      <th>Power_BHP</th>\n",
       "      <th>Torque_Nm</th>\n",
       "      <th>Mileage_kmpl</th>\n",
       "      <th>Price_Ex_Showroom</th>\n",
       "      <th>Owner_Type</th>\n",
       "      <th>Insurance_Valid_Till</th>\n",
       "      <th>Location</th>\n",
       "      <th>Registration_State</th>\n",
       "      <th>Car_Age</th>\n",
       "    </tr>\n",
       "  </thead>\n",
       "  <tbody>\n",
       "    <tr>\n",
       "      <th>0</th>\n",
       "      <td>1</td>\n",
       "      <td>X5</td>\n",
       "      <td>xDrive</td>\n",
       "      <td>6</td>\n",
       "      <td>Electric</td>\n",
       "      <td>Manual</td>\n",
       "      <td>1496</td>\n",
       "      <td>395.18</td>\n",
       "      <td>492.04</td>\n",
       "      <td>20.48</td>\n",
       "      <td>68.33</td>\n",
       "      <td>Second</td>\n",
       "      <td>2022</td>\n",
       "      <td>Hyderabad</td>\n",
       "      <td>KA</td>\n",
       "      <td>6</td>\n",
       "    </tr>\n",
       "    <tr>\n",
       "      <th>1</th>\n",
       "      <td>2</td>\n",
       "      <td>X5</td>\n",
       "      <td>Luxury Line</td>\n",
       "      <td>9</td>\n",
       "      <td>Electric</td>\n",
       "      <td>Automatic</td>\n",
       "      <td>1496</td>\n",
       "      <td>312.78</td>\n",
       "      <td>708.05</td>\n",
       "      <td>8.12</td>\n",
       "      <td>118.58</td>\n",
       "      <td>Second</td>\n",
       "      <td>2020</td>\n",
       "      <td>Chennai</td>\n",
       "      <td>DL</td>\n",
       "      <td>9</td>\n",
       "    </tr>\n",
       "    <tr>\n",
       "      <th>2</th>\n",
       "      <td>3</td>\n",
       "      <td>Z4</td>\n",
       "      <td>M Sport</td>\n",
       "      <td>13</td>\n",
       "      <td>Electric</td>\n",
       "      <td>Semi-Automatic</td>\n",
       "      <td>4395</td>\n",
       "      <td>604.45</td>\n",
       "      <td>550.74</td>\n",
       "      <td>16.24</td>\n",
       "      <td>109.90</td>\n",
       "      <td>Second</td>\n",
       "      <td>2022</td>\n",
       "      <td>Hyderabad</td>\n",
       "      <td>DL</td>\n",
       "      <td>13</td>\n",
       "    </tr>\n",
       "    <tr>\n",
       "      <th>4</th>\n",
       "      <td>5</td>\n",
       "      <td>X7</td>\n",
       "      <td>xDrive</td>\n",
       "      <td>15</td>\n",
       "      <td>Electric</td>\n",
       "      <td>Manual</td>\n",
       "      <td>2993</td>\n",
       "      <td>315.78</td>\n",
       "      <td>632.13</td>\n",
       "      <td>23.47</td>\n",
       "      <td>111.08</td>\n",
       "      <td>First</td>\n",
       "      <td>2024</td>\n",
       "      <td>Chennai</td>\n",
       "      <td>TS</td>\n",
       "      <td>15</td>\n",
       "    </tr>\n",
       "    <tr>\n",
       "      <th>5</th>\n",
       "      <td>6</td>\n",
       "      <td>X1</td>\n",
       "      <td>M Sport</td>\n",
       "      <td>13</td>\n",
       "      <td>Petrol</td>\n",
       "      <td>Manual</td>\n",
       "      <td>2993</td>\n",
       "      <td>193.38</td>\n",
       "      <td>457.96</td>\n",
       "      <td>24.68</td>\n",
       "      <td>124.46</td>\n",
       "      <td>Second</td>\n",
       "      <td>2021</td>\n",
       "      <td>Kolkata</td>\n",
       "      <td>KA</td>\n",
       "      <td>13</td>\n",
       "    </tr>\n",
       "  </tbody>\n",
       "</table>\n",
       "</div>"
      ],
      "text/plain": [
       "   ID Model_Name      Variant  Year Fuel_Type    Transmission  Engine_CC  \\\n",
       "0   1         X5       xDrive     6  Electric          Manual       1496   \n",
       "1   2         X5  Luxury Line     9  Electric       Automatic       1496   \n",
       "2   3         Z4      M Sport    13  Electric  Semi-Automatic       4395   \n",
       "4   5         X7       xDrive    15  Electric          Manual       2993   \n",
       "5   6         X1      M Sport    13    Petrol          Manual       2993   \n",
       "\n",
       "   Power_BHP  Torque_Nm  Mileage_kmpl  Price_Ex_Showroom Owner_Type  \\\n",
       "0     395.18     492.04         20.48              68.33     Second   \n",
       "1     312.78     708.05          8.12             118.58     Second   \n",
       "2     604.45     550.74         16.24             109.90     Second   \n",
       "4     315.78     632.13         23.47             111.08      First   \n",
       "5     193.38     457.96         24.68             124.46     Second   \n",
       "\n",
       "   Insurance_Valid_Till   Location Registration_State  Car_Age  \n",
       "0                  2022  Hyderabad                 KA        6  \n",
       "1                  2020    Chennai                 DL        9  \n",
       "2                  2022  Hyderabad                 DL       13  \n",
       "4                  2024    Chennai                 TS       15  \n",
       "5                  2021    Kolkata                 KA       13  "
      ]
     },
     "execution_count": 33,
     "metadata": {},
     "output_type": "execute_result"
    }
   ],
   "source": [
    "condition = df['Price_Ex_Showroom'] > 60.00\n",
    "df[condition].head()\n",
    "\n",
    "## Q.15Find top 5 most common cities in the dataset.\n"
   ]
  },
  {
   "cell_type": "markdown",
   "id": "a269f573-0332-4d50-882b-be1494235d65",
   "metadata": {},
   "source": [
    "## Q.15 Find top 5 most common cities in the dataset.\n"
   ]
  },
  {
   "cell_type": "code",
   "execution_count": 43,
   "id": "85f38985-6088-4267-8343-bde188cc2717",
   "metadata": {},
   "outputs": [],
   "source": [
    "df=pd .read_csv('C:\\\\Users\\\\admin\\\\Downloads\\\\BMW\\\\BMW\\\\bmw.csv')"
   ]
  },
  {
   "cell_type": "code",
   "execution_count": null,
   "id": "49a83d1b-4c48-4cc9-8111-291efdfb816b",
   "metadata": {},
   "outputs": [],
   "source": [
    "df['Location'] = df['Location'].astype('category')"
   ]
  },
  {
   "cell_type": "code",
   "execution_count": 44,
   "id": "87c3c533-4d68-4e40-9449-699cded9b489",
   "metadata": {},
   "outputs": [],
   "source": [
    "top_cities=df['Location'].value_counts().head(5)"
   ]
  },
  {
   "cell_type": "code",
   "execution_count": 45,
   "id": "f84337f1-81df-4520-b0b4-82eaecb43516",
   "metadata": {},
   "outputs": [
    {
     "data": {
      "text/plain": [
       "Location\n",
       "Ahmedabad    12668\n",
       "Chennai      12549\n",
       "Mumbai       12495\n",
       "Bangalore    12492\n",
       "Delhi        12478\n",
       "Name: count, dtype: int64"
      ]
     },
     "execution_count": 45,
     "metadata": {},
     "output_type": "execute_result"
    }
   ],
   "source": [
    "top_cities"
   ]
  },
  {
   "cell_type": "markdown",
   "id": "abd6c8f5-bf41-4b8c-ba74-73c53f64c54a",
   "metadata": {},
   "source": [
    "## Q.16Create a bar chart of fuel type vs average power.\n"
   ]
  },
  {
   "cell_type": "code",
   "execution_count": 47,
   "id": "508ae628-bc9d-4556-976f-32b89924d65a",
   "metadata": {},
   "outputs": [],
   "source": [
    "%matplotlib inline \n",
    "import matplotlib.pyplot as plt\n",
    "import numpy as np"
   ]
  },
  {
   "cell_type": "code",
   "execution_count": 52,
   "id": "7120232b-d167-49be-9400-b3c62d9eca6d",
   "metadata": {},
   "outputs": [],
   "source": [
    "Fuel=['Disel','petrol','rocel']\n",
    "revenue=[90,136,89]"
   ]
  },
  {
   "cell_type": "code",
   "execution_count": 53,
   "id": "d2ae9475-0e47-4ea3-99df-991730c3859e",
   "metadata": {},
   "outputs": [
    {
     "data": {
      "text/plain": [
       "array([0, 1, 2])"
      ]
     },
     "execution_count": 53,
     "metadata": {},
     "output_type": "execute_result"
    }
   ],
   "source": [
    "xpos = np.arange(len(Fuel))\n",
    "xpos"
   ]
  },
  {
   "cell_type": "code",
   "execution_count": 55,
   "id": "cb2a0083-49b9-4422-942a-cc06193a8185",
   "metadata": {},
   "outputs": [
    {
     "data": {
      "image/png": "[encoded data removed]",
      "text/plain": [
       "<Figure size 640x480 with 1 Axes>"
      ]
     },
     "metadata": {},
     "output_type": "display_data"
    }
   ],
   "source": [
    "plt.bar(xpos,revenue, label=\"Revenue\")\n",
    "\n",
    "plt.xticks(xpos,Fuel)\n",
    "plt.ylabel(\"fuel\")\n",
    "plt.title('Aeverage Power')\n",
    "plt.legend()\n",
    "plt.show()"
   ]
  },
  {
   "cell_type": "code",
   "execution_count": null,
   "id": "ad75444f-4165-4934-bf97-244eca641cfc",
   "metadata": {},
   "outputs": [],
   "source": []
  }
 ],
 "metadata": {
  "kernelspec": {
   "display_name": "Python 3 (ipykernel)",
   "language": "python",
   "name": "python3"
  },
  "language_info": {
   "codemirror_mode": {
    "name": "ipython",
    "version": 3
   },
   "file_extension": ".py",
   "mimetype": "text/x-python",
   "name": "python",
   "nbconvert_exporter": "python",
   "pygments_lexer": "ipython3",
   "version": "3.12.7"
  }
 },
 "nbformat": 4,
 "nbformat_minor": 5
}
